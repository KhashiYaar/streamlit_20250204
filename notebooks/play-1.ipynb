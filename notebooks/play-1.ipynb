{
 "cells": [
  {
   "cell_type": "code",
   "execution_count": 4,
   "metadata": {},
   "outputs": [
    {
     "ename": "ModuleNotFoundError",
     "evalue": "No module named 'model'",
     "output_type": "error",
     "traceback": [
      "\u001b[0;31m---------------------------------------------------------------------------\u001b[0m",
      "\u001b[0;31mModuleNotFoundError\u001b[0m                       Traceback (most recent call last)",
      "Cell \u001b[0;32mIn[4], line 13\u001b[0m\n\u001b[1;32m     11\u001b[0m \u001b[38;5;28;01mfrom\u001b[39;00m\u001b[38;5;250m \u001b[39m\u001b[38;5;21;01msklearn\u001b[39;00m\u001b[38;5;21;01m.\u001b[39;00m\u001b[38;5;21;01mmodel_selection\u001b[39;00m\u001b[38;5;250m \u001b[39m\u001b[38;5;28;01mimport\u001b[39;00m train_test_split\n\u001b[1;32m     12\u001b[0m \u001b[38;5;28;01mfrom\u001b[39;00m\u001b[38;5;250m \u001b[39m\u001b[38;5;21;01msklearn\u001b[39;00m\u001b[38;5;21;01m.\u001b[39;00m\u001b[38;5;21;01mmetrics\u001b[39;00m\u001b[38;5;250m \u001b[39m\u001b[38;5;28;01mimport\u001b[39;00m mean_absolute_error\n\u001b[0;32m---> 13\u001b[0m \u001b[38;5;28;01mfrom\u001b[39;00m\u001b[38;5;250m \u001b[39m\u001b[38;5;21;01mmodel\u001b[39;00m\u001b[38;5;250m \u001b[39m\u001b[38;5;28;01mimport\u001b[39;00m train_model, load_model, predict_life_expectancy\n\u001b[1;32m     15\u001b[0m \u001b[38;5;66;03m# Install missing package\u001b[39;00m\n\u001b[1;32m     16\u001b[0m get_ipython()\u001b[38;5;241m.\u001b[39msystem(\u001b[38;5;124m'\u001b[39m\u001b[38;5;124mpip install plots\u001b[39m\u001b[38;5;124m'\u001b[39m)\n",
      "\u001b[0;31mModuleNotFoundError\u001b[0m: No module named 'model'"
     ]
    }
   ],
   "source": [
    "##task 8 in tab 2: create a filter for the dataset for countries\n",
    "#show a scatterplot (as line chart): for life expectancy over the year\n",
    "#additional: create a second line in the chart showing the GDP (extra ax ticks)\n",
    "\n",
    "import streamlit as st\n",
    "import pandas as pd\n",
    "import plotly.express as px\n",
    "import numpy as np\n",
    "import joblib  # For saving/loading the model\n",
    "from sklearn.ensemble import RandomForestRegressor\n",
    "from sklearn.model_selection import train_test_split\n",
    "from sklearn.metrics import mean_absolute_error\n",
    "from model import train_model, load_model, predict_life_expectancy\n",
    "\n",
    "# Install missing package\n",
    "!pip install plots\n",
    "\n",
    "\n",
    "# Set page layout\n",
    "st.set_page_config(layout=\"wide\")\n",
    "\n",
    "# Title and subtitle\n",
    "st.title(\":earth_africa: Worldwide Analysis of Quality of Life and Economic Factors\")\n",
    "st.subheader(\n",
    "    \"This app enables you to explore the relationships between poverty, \"\n",
    "    \"life expectancy, and GDP across various countries and years. \"\n",
    "    \"Use the panels to select options and interact with the data.\"\n",
    ")\n",
    "\n",
    "# Create tabs\n",
    "tab1, tab2, tab3, tab4 = st.tabs(\n",
    "    [\"Global Overview\", \"Country Deep Dive\", \"Data Explorer\", \"Predictive Model\"]\n",
    ")\n",
    "\n",
    "\n",
    "# Load dataset\n",
    "@st.cache_data\n",
    "def load_data():\n",
    "    global_developement_data = \"./data/global_development_data.csv\"\n",
    "    return pd.read_csv(global_developement_data)\n",
    "\n"
   ]
  }
 ],
 "metadata": {
  "kernelspec": {
   "display_name": "DSR",
   "language": "python",
   "name": "python3"
  },
  "language_info": {
   "codemirror_mode": {
    "name": "ipython",
    "version": 3
   },
   "file_extension": ".py",
   "mimetype": "text/x-python",
   "name": "python",
   "nbconvert_exporter": "python",
   "pygments_lexer": "ipython3",
   "version": "3.13.1"
  }
 },
 "nbformat": 4,
 "nbformat_minor": 2
}
